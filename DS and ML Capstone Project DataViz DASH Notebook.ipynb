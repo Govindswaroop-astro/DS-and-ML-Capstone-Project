{
 "cells": [
  {
   "cell_type": "code",
   "execution_count": 1,
   "metadata": {},
   "outputs": [
    {
     "data": {
      "text/plain": [
       "'spacex_launch_dash (2).csv'"
      ]
     },
     "execution_count": 1,
     "metadata": {},
     "output_type": "execute_result"
    }
   ],
   "source": [
    "import wget\n",
    "\n",
    "wget.download( \"https://cf-courses-data.s3.us.cloud-object-storage.appdomain.cloud/IBM-DS0321EN-SkillsNetwork/datasets/spacex_launch_dash.csv\")\n"
   ]
  },
  {
   "cell_type": "markdown",
   "metadata": {},
   "source": [
    "Which site has the largest successful launches?\n",
    "\n",
    "--->> **VAFB SLC-4E** had the three largest suceeseful launches \n",
    "    \n",
    "Which site has the highest launch success rate?\n",
    "\n",
    "--->> **KSC LC-39A** it is near the sea and close to southern point in Florida, but no obvious geographic advantage vs\n",
    "        CCAFS LC-40 and CCAFS SLC-40\n",
    "\n",
    "Which payload range(s) has the highest launch success rate?\n",
    "\n",
    "--->> **2500-5000 kg**\n",
    "\n",
    "Which payload range(s) has the lowest launch success rate?\n",
    "\n",
    "--->> **500kg-2000kg** given the number of failures and the small numebr of successful launches\n",
    "    \n",
    "Which F9 Booster version (v1.0, v1.1, FT, B4, B5, etc.) has the highest\\ launch success rate?\n",
    "\n",
    "--->> **FT booster** for all sites"
   ]
  },
  {
   "cell_type": "code",
   "execution_count": null,
   "metadata": {},
   "outputs": [
    {
     "name": "stdout",
     "output_type": "stream",
     "text": [
      "Dash is running on http://127.0.0.1:8090/\n",
      "\n",
      " * Serving Flask app '__main__' (lazy loading)\n",
      " * Environment: production\n",
      "\u001b[31m   WARNING: This is a development server. Do not use it in a production deployment.\u001b[0m\n",
      "\u001b[2m   Use a production WSGI server instead.\u001b[0m\n",
      " * Debug mode: off\n"
     ]
    },
    {
     "name": "stderr",
     "output_type": "stream",
     "text": [
      " * Running on http://127.0.0.1:8090/ (Press CTRL+C to quit)\n",
      "127.0.0.1 - - [11/Aug/2021 20:56:57] \"GET / HTTP/1.1\" 200 -\n",
      "127.0.0.1 - - [11/Aug/2021 20:56:57] \"GET /_dash-component-suites/dash_renderer/polyfill@7.v1_9_1m1623433503.8.7.min.js HTTP/1.1\" 200 -\n",
      "127.0.0.1 - - [11/Aug/2021 20:56:57] \"GET /_dash-component-suites/dash_renderer/prop-types@15.v1_9_1m1623433503.7.2.min.js HTTP/1.1\" 200 -\n",
      "127.0.0.1 - - [11/Aug/2021 20:56:57] \"GET /_dash-component-suites/dash_renderer/react-dom@16.v1_9_1m1623433503.14.0.min.js HTTP/1.1\" 200 -\n",
      "127.0.0.1 - - [11/Aug/2021 20:56:57] \"GET /_dash-component-suites/dash_html_components/dash_html_components.v1_1_3m1623433500.min.js HTTP/1.1\" 200 -\n",
      "127.0.0.1 - - [11/Aug/2021 20:56:57] \"GET /_dash-component-suites/dash_core_components/dash_core_components.v1_16_0m1623433503.min.js HTTP/1.1\" 200 -\n",
      "127.0.0.1 - - [11/Aug/2021 20:56:57] \"GET /_dash-component-suites/dash_renderer/react@16.v1_9_1m1623433503.14.0.min.js HTTP/1.1\" 200 -\n",
      "127.0.0.1 - - [11/Aug/2021 20:56:57] \"GET /_dash-component-suites/dash_core_components/dash_core_components-shared.v1_16_0m1623433503.js HTTP/1.1\" 200 -\n",
      "127.0.0.1 - - [11/Aug/2021 20:56:57] \"GET /_dash-component-suites/dash_renderer/dash_renderer.v1_9_1m1623433503.min.js HTTP/1.1\" 200 -\n",
      "127.0.0.1 - - [11/Aug/2021 20:56:57] \"GET /_dash-layout HTTP/1.1\" 200 -\n",
      "127.0.0.1 - - [11/Aug/2021 20:56:57] \"GET /_dash-dependencies HTTP/1.1\" 200 -\n",
      "127.0.0.1 - - [11/Aug/2021 20:56:57] \"GET /_dash-component-suites/dash_core_components/async-graph.v1_16_0m1617903285.js HTTP/1.1\" 200 -\n",
      "127.0.0.1 - - [11/Aug/2021 20:56:57] \"GET /_dash-component-suites/dash_core_components/async-slider.v1_16_0m1617903285.js HTTP/1.1\" 200 -\n",
      "127.0.0.1 - - [11/Aug/2021 20:56:57] \"GET /_dash-component-suites/dash_core_components/async-dropdown.v1_16_0m1617903285.js HTTP/1.1\" 200 -\n",
      "127.0.0.1 - - [11/Aug/2021 20:56:58] \"GET /_favicon.ico?v=1.20.0 HTTP/1.1\" 200 -\n",
      "127.0.0.1 - - [11/Aug/2021 20:56:58] \"GET /_dash-component-suites/dash_core_components/async-plotlyjs.v1_16_0m1617903285.js HTTP/1.1\" 200 -\n"
     ]
    },
    {
     "name": "stdout",
     "output_type": "stream",
     "text": [
      "Exception on /_dash-update-component [POST]\n",
      "Traceback (most recent call last):\n",
      "  File \"C:\\Users\\Govindswaroop\\Anaconda3\\lib\\site-packages\\flask\\app.py\", line 2070, in wsgi_app\n",
      "    response = self.full_dispatch_request()\n",
      "  File \"C:\\Users\\Govindswaroop\\Anaconda3\\lib\\site-packages\\flask\\app.py\", line 1515, in full_dispatch_request\n",
      "    rv = self.handle_user_exception(e)\n",
      "  File \"C:\\Users\\Govindswaroop\\Anaconda3\\lib\\site-packages\\flask\\app.py\", line 1513, in full_dispatch_request\n",
      "    rv = self.dispatch_request()\n",
      "  File \"C:\\Users\\Govindswaroop\\Anaconda3\\lib\\site-packages\\flask\\app.py\", line 1499, in dispatch_request\n",
      "    return self.ensure_sync(self.view_functions[rule.endpoint])(**req.view_args)\n",
      "  File \"C:\\Users\\Govindswaroop\\Anaconda3\\lib\\site-packages\\dash\\dash.py\", line 1079, in dispatch\n",
      "    response.set_data(func(*args, outputs_list=outputs_list))\n",
      "  File \"C:\\Users\\Govindswaroop\\Anaconda3\\lib\\site-packages\\dash\\dash.py\", line 1010, in add_context\n",
      "    output_value = func(*args, **kwargs)  # %% callback invoked %%\n",
      "  File \"<ipython-input-1-87ab26d238d9>\", line 78, in get_graph\n",
      "    scat_fig = px.scatter(data, x = 'Payload Mass (kg)', y = 'class', title = 'Correlation between payload and success for site %s'%value , color = \"Booster Version Category\", range_x = payload)\n",
      "  File \"C:\\Users\\Govindswaroop\\Anaconda3\\lib\\site-packages\\plotly\\express\\_chart_types.py\", line 64, in scatter\n",
      "    return make_figure(args=locals(), constructor=go.Scatter)\n",
      "  File \"C:\\Users\\Govindswaroop\\Anaconda3\\lib\\site-packages\\plotly\\express\\_core.py\", line 1889, in make_figure\n",
      "    for val in sorted_group_values[m.grouper]:\n",
      "KeyError: 'Booster Version Category'\n"
     ]
    },
    {
     "name": "stderr",
     "output_type": "stream",
     "text": [
      "127.0.0.1 - - [11/Aug/2021 20:57:00] \"POST /_dash-update-component HTTP/1.1\" 500 -\n",
      "127.0.0.1 - - [11/Aug/2021 20:57:20] \"POST /_dash-update-component HTTP/1.1\" 200 -\n"
     ]
    },
    {
     "name": "stdout",
     "output_type": "stream",
     "text": [
      "Exception on /_dash-update-component [POST]\n",
      "Traceback (most recent call last):\n",
      "  File \"C:\\Users\\Govindswaroop\\Anaconda3\\lib\\site-packages\\flask\\app.py\", line 2070, in wsgi_app\n",
      "    response = self.full_dispatch_request()\n",
      "  File \"C:\\Users\\Govindswaroop\\Anaconda3\\lib\\site-packages\\flask\\app.py\", line 1515, in full_dispatch_request\n",
      "    rv = self.handle_user_exception(e)\n",
      "  File \"C:\\Users\\Govindswaroop\\Anaconda3\\lib\\site-packages\\flask\\app.py\", line 1513, in full_dispatch_request\n",
      "    rv = self.dispatch_request()\n",
      "  File \"C:\\Users\\Govindswaroop\\Anaconda3\\lib\\site-packages\\flask\\app.py\", line 1499, in dispatch_request\n",
      "    return self.ensure_sync(self.view_functions[rule.endpoint])(**req.view_args)\n",
      "  File \"C:\\Users\\Govindswaroop\\Anaconda3\\lib\\site-packages\\dash\\dash.py\", line 1079, in dispatch\n",
      "    response.set_data(func(*args, outputs_list=outputs_list))\n",
      "  File \"C:\\Users\\Govindswaroop\\Anaconda3\\lib\\site-packages\\dash\\dash.py\", line 1010, in add_context\n",
      "    output_value = func(*args, **kwargs)  # %% callback invoked %%\n",
      "  File \"<ipython-input-1-87ab26d238d9>\", line 78, in get_graph\n",
      "    scat_fig = px.scatter(data, x = 'Payload Mass (kg)', y = 'class', title = 'Correlation between payload and success for site %s'%value , color = \"Booster Version Category\", range_x = payload)\n",
      "  File \"C:\\Users\\Govindswaroop\\Anaconda3\\lib\\site-packages\\plotly\\express\\_chart_types.py\", line 64, in scatter\n",
      "    return make_figure(args=locals(), constructor=go.Scatter)\n",
      "  File \"C:\\Users\\Govindswaroop\\Anaconda3\\lib\\site-packages\\plotly\\express\\_core.py\", line 1889, in make_figure\n",
      "    for val in sorted_group_values[m.grouper]:\n",
      "KeyError: 'Booster Version Category'\n"
     ]
    },
    {
     "name": "stderr",
     "output_type": "stream",
     "text": [
      "127.0.0.1 - - [11/Aug/2021 20:58:23] \"POST /_dash-update-component HTTP/1.1\" 500 -\n"
     ]
    },
    {
     "name": "stdout",
     "output_type": "stream",
     "text": [
      "Exception on /_dash-update-component [POST]\n",
      "Traceback (most recent call last):\n",
      "  File \"C:\\Users\\Govindswaroop\\Anaconda3\\lib\\site-packages\\flask\\app.py\", line 2070, in wsgi_app\n",
      "    response = self.full_dispatch_request()\n",
      "  File \"C:\\Users\\Govindswaroop\\Anaconda3\\lib\\site-packages\\flask\\app.py\", line 1515, in full_dispatch_request\n",
      "    rv = self.handle_user_exception(e)\n",
      "  File \"C:\\Users\\Govindswaroop\\Anaconda3\\lib\\site-packages\\flask\\app.py\", line 1513, in full_dispatch_request\n",
      "    rv = self.dispatch_request()\n",
      "  File \"C:\\Users\\Govindswaroop\\Anaconda3\\lib\\site-packages\\flask\\app.py\", line 1499, in dispatch_request\n",
      "    return self.ensure_sync(self.view_functions[rule.endpoint])(**req.view_args)\n",
      "  File \"C:\\Users\\Govindswaroop\\Anaconda3\\lib\\site-packages\\dash\\dash.py\", line 1079, in dispatch\n",
      "    response.set_data(func(*args, outputs_list=outputs_list))\n",
      "  File \"C:\\Users\\Govindswaroop\\Anaconda3\\lib\\site-packages\\dash\\dash.py\", line 1010, in add_context\n",
      "    output_value = func(*args, **kwargs)  # %% callback invoked %%\n",
      "  File \"<ipython-input-1-87ab26d238d9>\", line 78, in get_graph\n",
      "    scat_fig = px.scatter(data, x = 'Payload Mass (kg)', y = 'class', title = 'Correlation between payload and success for site %s'%value , color = \"Booster Version Category\", range_x = payload)\n",
      "  File \"C:\\Users\\Govindswaroop\\Anaconda3\\lib\\site-packages\\plotly\\express\\_chart_types.py\", line 64, in scatter\n",
      "    return make_figure(args=locals(), constructor=go.Scatter)\n",
      "  File \"C:\\Users\\Govindswaroop\\Anaconda3\\lib\\site-packages\\plotly\\express\\_core.py\", line 1889, in make_figure\n",
      "    for val in sorted_group_values[m.grouper]:\n",
      "KeyError: 'Booster Version Category'\n"
     ]
    },
    {
     "name": "stderr",
     "output_type": "stream",
     "text": [
      "127.0.0.1 - - [11/Aug/2021 20:58:26] \"POST /_dash-update-component HTTP/1.1\" 500 -\n",
      "127.0.0.1 - - [11/Aug/2021 20:58:32] \"POST /_dash-update-component HTTP/1.1\" 200 -\n",
      "127.0.0.1 - - [11/Aug/2021 20:58:33] \"POST /_dash-update-component HTTP/1.1\" 200 -\n"
     ]
    }
   ],
   "source": [
    "# Import required libraries\n",
    "import pandas as pd\n",
    "import dash\n",
    "import dash_html_components as html\n",
    "import dash_core_components as dcc\n",
    "from dash.dependencies import Input, Output\n",
    "import plotly.express as px\n",
    "\n",
    "# Read the airline data into pandas dataframe\n",
    "spacex_df = pd.read_csv(\"https://cf-courses-data.s3.us.cloud-object-storage.appdomain.cloud/IBM-DS0321EN-SkillsNetwork/datasets/spacex_launch_dash.csv\")\n",
    "max_payload = spacex_df['Payload Mass (kg)'].max()\n",
    "min_payload = spacex_df['Payload Mass (kg)'].min()\n",
    "\n",
    "# Create a dash application\n",
    "app = dash.Dash(__name__)\n",
    "\n",
    "# Create an app layout\n",
    "app.layout = html.Div(children=[html.H1('SpaceX Launch Records Dashboard',\n",
    "                                        style={'textAlign': 'center', 'color': '#503D36',\n",
    "                                               'font-size': 40}),\n",
    "                                # TASK 1: Add a dropdown list to enable Launch Site selection\n",
    "                                # The default select value is for ALL sites\n",
    "                                # dcc.Dropdown(id='site-dropdown',...)\n",
    "                                dcc.Dropdown(id='site-dropdown',\n",
    "                                    options=[\n",
    "                                        {'label': 'All Sites', 'value':'ALL'},\n",
    "                                        {'label': 'CCAFS LC-40', 'value':'CCAFS LC-40'},\n",
    "                                        {'label': 'VAFB SLC-4E', 'value':'VAFB SLC-4E'},\n",
    "                                        {'label': 'KSC LC-39A', 'value':'KSC LC-39A'},\n",
    "                                        {'label': 'CCAFS SLC-40', 'value':'CCAFS SLC-40'}],\n",
    "                                    value = 'ALL', placeholder='Select Launch Site here', searchable=True),\n",
    "                            \n",
    "                                html.Br(),\n",
    "\n",
    "                                # TASK 2: Add a pie chart to show the total successful launches count for all sites\n",
    "                                # If a specific launch site was selected, show the Success vs. Failed counts for the site\n",
    "                                html.Div(dcc.Graph(id='success-pie-chart')),\n",
    "                                html.Br(),\n",
    "\n",
    "                                html.P(\"Payload range (Kg):\"),\n",
    "                                # TASK 3: Add a slider to select payload range\n",
    "                                #dcc.RangeSlider(id='payload-slider',...)                            \n",
    "                                dcc.RangeSlider(id='payload-slider', min = 0, max=10000, step=1000,marks={0:'0', 2000:'2000', 5000:'5000', 7000:'7000', 10000:'10000'}, value=[min_payload, max_payload]),                                \n",
    "\n",
    "                                # TASK 4: Add a scatter chart to show the correlation between payload and launch success\n",
    "                                html.Div(dcc.Graph(id='success-payload-scatter-chart')),\n",
    "                                ])\n",
    "\n",
    "# TASK 2:\n",
    "# Add a callback function for `site-dropdown` as input, `success-pie-chart` as output\n",
    "@app.callback(\n",
    "    Output(component_id=\"success-pie-chart\", component_property=\"figure\"),\n",
    "    Input(component_id=\"site-dropdown\", component_property=\"value\"))\n",
    "def get_pie(value):\n",
    "    if value != 'ALL':\n",
    "        my_df = spacex_df[spacex_df['Launch Site'] == value].groupby(['Launch Site', 'class']).size().reset_index(name='class_count')\n",
    "        \n",
    "        \n",
    "        pie_fig = px.pie(my_df, values='class_count', names=\"class\", title='Total Success/Fail Launches by Site')\n",
    "        return pie_fig\n",
    "    else:\n",
    "        pie_fig = px.pie(spacex_df, values='class', names=\"Launch Site\", title='Total Success Launches by Site')\n",
    "        return pie_fig\n",
    "\n",
    "\n",
    "# TASK 4:\n",
    "# Add a callback function for `site-dropdown` and `payload-slider` as inputs, `success-payload-scatter-chart` as output\n",
    "@app.callback(\n",
    "    Output(component_id=\"success-payload-scatter-chart\", component_property=\"figure\"),\n",
    "    [Input(component_id=\"site-dropdown\", component_property=\"value\"),\n",
    "    Input(component_id=\"payload-slider\", component_property=\"value\")])\n",
    "def get_graph(value, payload):\n",
    "    if value != 'ALL':\n",
    "        scat_fig = px.scatter(spacex_df, x = 'Payload Mass (kg)', y = 'class', title = 'Correlation between payload and success for all sites', color = \"Booster Version Category\", range_x = payload)\n",
    "        return scat_fig\n",
    "    else:\n",
    "        data = spacex_df[spacex_df[\"Launch Site\"] == value]\n",
    "        scat_fig = px.scatter(data, x = 'Payload Mass (kg)', y = 'class', title = 'Correlation between payload and success for site %s'%value , color = \"Booster Version Category\", range_x = payload)\n",
    "        return scat_fig\n",
    "\n",
    "# Run the app\n",
    "if __name__ == '__main__':\n",
    "    app.run_server(port=8090)"
   ]
  }
 ],
 "metadata": {
  "kernelspec": {
   "display_name": "Python 3",
   "language": "python",
   "name": "python3"
  },
  "language_info": {
   "codemirror_mode": {
    "name": "ipython",
    "version": 3
   },
   "file_extension": ".py",
   "mimetype": "text/x-python",
   "name": "python",
   "nbconvert_exporter": "python",
   "pygments_lexer": "ipython3",
   "version": "3.7.0"
  }
 },
 "nbformat": 4,
 "nbformat_minor": 2
}
